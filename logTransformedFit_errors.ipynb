{
 "cells": [
  {
   "cell_type": "markdown",
   "metadata": {
    "nteract": {
     "transient": {
      "deleting": false
     }
    }
   },
   "source": [
    "# Protein stability as a log-linear problem\n",
    "## Assessing model error"
   ]
  },
  {
   "cell_type": "code",
   "execution_count": 1,
   "metadata": {
    "jupyter": {
     "outputs_hidden": false,
     "source_hidden": false
    },
    "nteract": {
     "transient": {
      "deleting": false
     }
    }
   },
   "outputs": [],
   "source": [
    "# Modules\n",
    "import pandas as pd\n",
    "import numpy as np\n",
    "from scipy.stats import linregress\n",
    "import matplotlib.pyplot as plt\n"
   ]
  },
  {
   "cell_type": "markdown",
   "metadata": {
    "nteract": {
     "transient": {
      "deleting": false
     }
    }
   },
   "source": [
    "## Same mock dataset"
   ]
  },
  {
   "cell_type": "code",
   "execution_count": 2,
   "metadata": {
    "jupyter": {
     "outputs_hidden": false,
     "source_hidden": false
    },
    "nteract": {
     "transient": {
      "deleting": false
     }
    }
   },
   "outputs": [
    {
     "data": {
      "text/html": [
       "<div>\n",
       "<style scoped>\n",
       "    .dataframe tbody tr th:only-of-type {\n",
       "        vertical-align: middle;\n",
       "    }\n",
       "\n",
       "    .dataframe tbody tr th {\n",
       "        vertical-align: top;\n",
       "    }\n",
       "\n",
       "    .dataframe thead th {\n",
       "        text-align: right;\n",
       "    }\n",
       "</style>\n",
       "<table border=\"1\" class=\"dataframe\">\n",
       "  <thead>\n",
       "    <tr style=\"text-align: right;\">\n",
       "      <th></th>\n",
       "      <th>GdmCl</th>\n",
       "      <th>Intensity</th>\n",
       "    </tr>\n",
       "  </thead>\n",
       "  <tbody>\n",
       "    <tr>\n",
       "      <th>0</th>\n",
       "      <td>0.25</td>\n",
       "      <td>101.0</td>\n",
       "    </tr>\n",
       "    <tr>\n",
       "      <th>1</th>\n",
       "      <td>0.50</td>\n",
       "      <td>97.0</td>\n",
       "    </tr>\n",
       "    <tr>\n",
       "      <th>2</th>\n",
       "      <td>0.75</td>\n",
       "      <td>102.0</td>\n",
       "    </tr>\n",
       "    <tr>\n",
       "      <th>3</th>\n",
       "      <td>1.00</td>\n",
       "      <td>96.0</td>\n",
       "    </tr>\n",
       "    <tr>\n",
       "      <th>4</th>\n",
       "      <td>1.50</td>\n",
       "      <td>88.0</td>\n",
       "    </tr>\n",
       "    <tr>\n",
       "      <th>5</th>\n",
       "      <td>1.75</td>\n",
       "      <td>62.0</td>\n",
       "    </tr>\n",
       "    <tr>\n",
       "      <th>6</th>\n",
       "      <td>2.00</td>\n",
       "      <td>52.0</td>\n",
       "    </tr>\n",
       "    <tr>\n",
       "      <th>7</th>\n",
       "      <td>2.50</td>\n",
       "      <td>48.0</td>\n",
       "    </tr>\n",
       "    <tr>\n",
       "      <th>8</th>\n",
       "      <td>2.75</td>\n",
       "      <td>28.0</td>\n",
       "    </tr>\n",
       "    <tr>\n",
       "      <th>9</th>\n",
       "      <td>3.00</td>\n",
       "      <td>20.0</td>\n",
       "    </tr>\n",
       "    <tr>\n",
       "      <th>10</th>\n",
       "      <td>3.50</td>\n",
       "      <td>26.0</td>\n",
       "    </tr>\n",
       "    <tr>\n",
       "      <th>11</th>\n",
       "      <td>4.00</td>\n",
       "      <td>23.0</td>\n",
       "    </tr>\n",
       "  </tbody>\n",
       "</table>\n",
       "</div>"
      ],
      "text/plain": [
       "    GdmCl  Intensity\n",
       "0    0.25      101.0\n",
       "1    0.50       97.0\n",
       "2    0.75      102.0\n",
       "3    1.00       96.0\n",
       "4    1.50       88.0\n",
       "5    1.75       62.0\n",
       "6    2.00       52.0\n",
       "7    2.50       48.0\n",
       "8    2.75       28.0\n",
       "9    3.00       20.0\n",
       "10   3.50       26.0\n",
       "11   4.00       23.0"
      ]
     },
     "execution_count": 2,
     "metadata": {},
     "output_type": "execute_result"
    }
   ],
   "source": [
    "df = pd.DataFrame({\n",
    "    \"GdmCl\": np.array([\n",
    "        0.25,\n",
    "        0.50,\n",
    "        0.75,\n",
    "        1,\n",
    "        1.5,\n",
    "        1.75,\n",
    "        2,\n",
    "        2.5,\n",
    "        2.75,\n",
    "        3,\n",
    "        3.5,\n",
    "        4\n",
    "    ], dtype=float),\n",
    "    \"Intensity\": np.array([\n",
    "        101,\n",
    "        97,\n",
    "        102,\n",
    "        96,\n",
    "        88,\n",
    "        62,\n",
    "        52,\n",
    "        48,\n",
    "        28,\n",
    "        20,  # 20 or 19\n",
    "        26,\n",
    "        23\n",
    "    ], dtype=float)\n",
    "})\n",
    "\n",
    "df.head(12)\n",
    "\n"
   ]
  },
  {
   "cell_type": "markdown",
   "metadata": {
    "nteract": {
     "transient": {
      "deleting": false
     }
    }
   },
   "source": [
    "## Same data manipulations and same transition region."
   ]
  },
  {
   "cell_type": "code",
   "execution_count": 3,
   "metadata": {
    "jupyter": {
     "outputs_hidden": false,
     "source_hidden": false
    },
    "nteract": {
     "transient": {
      "deleting": false
     }
    }
   },
   "outputs": [
    {
     "name": "stderr",
     "output_type": "stream",
     "text": [
      "/usr/local/lib/python3.9/site-packages/pandas/core/base.py:937: RuntimeWarning: invalid value encountered in log10\n",
      "  new_values = map_f(values, mapper)\n"
     ]
    }
   ],
   "source": [
    "def rescale(y, ref_min, ref_max):\n",
    "    return (y - ref_min) / (ref_max - ref_min)\n",
    "\n",
    "\n",
    "df['N_ratio'] = df.Intensity.apply(rescale, args=(20, 98))\n",
    "df['K'] = (1 - df.N_ratio) / df.N_ratio\n",
    "df['logK'] = df.K.map(np.log10)\n",
    "transition = df[df.GdmCl.between(1.25, 2.80)].copy()\n"
   ]
  },
  {
   "cell_type": "markdown",
   "metadata": {
    "nteract": {
     "transient": {
      "deleting": false
     }
    }
   },
   "source": [
    "Recover paramaters estimated from fitted model."
   ]
  },
  {
   "cell_type": "code",
   "execution_count": 4,
   "metadata": {
    "jupyter": {
     "outputs_hidden": false,
     "source_hidden": false
    },
    "nteract": {
     "transient": {
      "deleting": false
     }
    }
   },
   "outputs": [],
   "source": [
    "INTERCEPT = np.array(-2.293263723543123)\n",
    "SLOPE = np.array(1.1350753137863376)\n",
    "\n"
   ]
  },
  {
   "cell_type": "markdown",
   "metadata": {
    "nteract": {
     "transient": {
      "deleting": false
     }
    }
   },
   "source": [
    "For any model fitted to empirical data, there will be deviations between the\n",
    "model predictions and the actual measurements. These are due to any factor\n",
    "outside of the control of the experimental design, think anything from\n",
    "thermal fluctuations, sample heterogeinity, instrument inaccuracy, pipetting...\n",
    "The distances between observations and model $y_{obs} - y_{pred}$ are called\n",
    "**residuals** and allow us to quantify the model errors. \n",
    "\n",
    "Below, we calculate the residuals and squared residuals for the transition\n",
    "region."
   ]
  },
  {
   "cell_type": "code",
   "execution_count": 5,
   "metadata": {
    "jupyter": {
     "outputs_hidden": false,
     "source_hidden": false
    },
    "nteract": {
     "transient": {
      "deleting": false
     }
    }
   },
   "outputs": [],
   "source": [
    "transition['logK_pred'] = INTERCEPT + SLOPE * transition.GdmCl\n",
    "transition['logK_res'] = transition.logK - transition.logK_pred\n",
    "transition['sqres'] = transition.logK_res ** 2\n"
   ]
  },
  {
   "cell_type": "markdown",
   "metadata": {
    "nteract": {
     "transient": {
      "deleting": false
     }
    }
   },
   "source": [
    "Here we represent residuals as vertical arrows between observations and\n",
    "predictions."
   ]
  },
  {
   "cell_type": "code",
   "execution_count": 6,
   "metadata": {
    "jupyter": {
     "outputs_hidden": false,
     "source_hidden": false
    },
    "nteract": {
     "transient": {
      "deleting": false
     }
    }
   },
   "outputs": [
    {
     "data": {
      "text/plain": [
       "<matplotlib.legend.Legend at 0x118dac5e0>"
      ]
     },
     "execution_count": 6,
     "metadata": {},
     "output_type": "execute_result"
    },
    {
     "data": {
      "image/png": "[encoded data removed]",
      "text/plain": [
       "<Figure size 432x432 with 1 Axes>"
      ]
     },
     "metadata": {
      "needs_background": "light"
     },
     "output_type": "display_data"
    }
   ],
   "source": [
    "fig = plt.figure(figsize=(6, 6))\n",
    "ax = fig.subplots(1, 1)\n",
    "# observations\n",
    "transition.plot.scatter(\n",
    "    \"GdmCl\",\n",
    "    \"logK\",\n",
    "    label=\"observations\",\n",
    "    zorder=1,\n",
    "    ax=ax,\n",
    ")\n",
    "# predictions\n",
    "transition.plot(\n",
    "    \"GdmCl\",\n",
    "    \"logK_pred\",\n",
    "    color=\"red\",\n",
    "    label=\"prediction\",\n",
    "    markeredgecolor=\"k\",\n",
    "    linestyle=\"--\",\n",
    "    marker=\"o\",\n",
    "    zorder=3,\n",
    "    ax=ax\n",
    ")\n",
    "# residual arrows\n",
    "for i in range(transition.shape[0]):\n",
    "    ax.arrow(\n",
    "        x=transition.iloc[i].GdmCl,\n",
    "        y=transition.iloc[i].logK_pred,\n",
    "        dx=0,\n",
    "        dy=transition.iloc[i].logK_res,\n",
    "        width=0.005,\n",
    "        length_includes_head=True,\n",
    "        facecolor=\"k\",\n",
    "        edgecolor=\"w\",\n",
    "        lw=4e-5,\n",
    "        zorder=2,\n",
    "    )\n",
    "ax.legend()\n",
    "\n"
   ]
  },
  {
   "cell_type": "markdown",
   "metadata": {
    "nteract": {
     "transient": {
      "deleting": false
     }
    }
   },
   "source": [
    "Residuals are often associated with the **unexplained** variation in the data.\n",
    "For this particular case, this means that while the model explains\n",
    "something about how $\\log{K}$ changes as a function of [GdmCl], we can't predict\n",
    "with absolute certainty what the exact value of $\\log{K}$ will be for any one\n",
    "particular concentration of denaturant, we can only provide an approximation.\n",
    "\n",
    "A probabilistic interpretation of this situation is that, in repeating this\n",
    "experiment, we will be willing to accept similar deviations between model and\n",
    "observations, residuals of similar size. Consequently, different experiments\n",
    "could have given us sligthly different datasets, yielding different parameter\n",
    "estimates. It follows that our current model is only one of many possible\n",
    "lines, so our parameter estimates carry some **uncertainty**."
   ]
  },
  {
   "cell_type": "code",
   "execution_count": 7,
   "metadata": {},
   "outputs": [
    {
     "name": "stdout",
     "output_type": "stream",
     "text": [
      "Fitted equation:\n",
      "log K = -2.29 + [GdmCl] • 1.14\n"
     ]
    }
   ],
   "source": [
    "print(\n",
    "    f\"Fitted equation:\\n\"\n",
    "    f\"log K = {INTERCEPT.round(2)} + [GdmCl] • {SLOPE.round(2)}\"\n",
    ")"
   ]
  },
  {
   "cell_type": "markdown",
   "metadata": {},
   "source": [
    "What residuals can be accepted as typical we need to asses depending on the\n",
    "residuals we've observed so far. By definition, residuals have mean 0 and their\n",
    "standard deviation can be calculated as follows:\n",
    "\n",
    "$$\\sigma_{res} = \\sqrt{\\frac{\\sum{(y_{obs} - y_{res})^{2}}}{\\mathrm{df}_{res}}},$$\n",
    "\n",
    "where $\\mathrm{df}_{res}$ is the number of degrees of freedom of the residuals.\n",
    "For $n_{obs}$ observations and a linear model with one variable,\n",
    "$\\mathrm{df}_{res} = n_{obs} - 2$."
   ]
  },
  {
   "cell_type": "code",
   "execution_count": 8,
   "metadata": {
    "jupyter": {
     "outputs_hidden": false,
     "source_hidden": false
    },
    "nteract": {
     "transient": {
      "deleting": false
     }
    }
   },
   "outputs": [],
   "source": [
    "dfres = transition.shape[0] - 2\n",
    "sigma = np.sqrt(transition.sqres.sum() / dfres)  # sigma = sqrt(MSE) = sqrt(SSE/df)\n",
    "\n"
   ]
  },
  {
   "cell_type": "markdown",
   "metadata": {
    "nteract": {
     "transient": {
      "deleting": false
     }
    }
   },
   "source": [
    "Rather than actually repeating the experiment, we can simulate what measurements\n",
    "we are likely to obtain by adding appropriately *typical* residuals to our\n",
    "current model. A common assumption is that the residuals follow a Gaussian, so with\n",
    "mean 0 and $\\sigma_{res}$ we can generate datasets that would be indistinguishable\n",
    "from the one we measured."
   ]
  },
  {
   "cell_type": "code",
   "execution_count": 9,
   "metadata": {
    "jupyter": {
     "outputs_hidden": false,
     "source_hidden": false
    },
    "nteract": {
     "transient": {
      "deleting": false
     }
    }
   },
   "outputs": [
    {
     "data": {
      "image/png": "[encoded data removed]",
      "text/plain": [
       "<Figure size 432x432 with 1 Axes>"
      ]
     },
     "execution_count": 9,
     "metadata": {},
     "output_type": "execute_result"
    }
   ],
   "source": [
    "aa = []  # intercepts\n",
    "bb = []  # slopes\n",
    "for _ in range(100): # repeat X times\n",
    "    sim_error = np.random.normal(0, sigma, transition.shape[0]) # Guassian residuals\n",
    "    simulated = transition.logK_pred + sim_error\n",
    "    ax.scatter(\n",
    "        transition.GdmCl,\n",
    "        simulated,\n",
    "        color=\"g\",\n",
    "        marker=\".\",\n",
    "    )\n",
    "    # fit for each dataset\n",
    "    sim_res = linregress(transition.GdmCl.values, simulated) \n",
    "    # track intercepts and slopes\n",
    "    bb.append(sim_res.slope)\n",
    "    aa.append(sim_res.intercept)\n",
    "\n",
    "ax.spines.bottom.set_position((\"data\", 0))\n",
    "ax.spines.right.set_visible(False)\n",
    "ax.spines.top.set_visible(False)\n",
    "# show updated figure again\n",
    "fig\n"
   ]
  },
  {
   "cell_type": "markdown",
   "metadata": {},
   "source": [
    "For each simulation we refitted the dataset to a line and kept\n",
    "track of the intercepts and slopes we were getting."
   ]
  },
  {
   "cell_type": "code",
   "execution_count": 10,
   "metadata": {},
   "outputs": [
    {
     "data": {
      "text/plain": [
       "Text(0.5, 0, 'simulated slopes')"
      ]
     },
     "execution_count": 10,
     "metadata": {},
     "output_type": "execute_result"
    },
    {
     "data": {
      "image/png": "[encoded data removed]",
      "text/plain": [
       "<Figure size 1080x360 with 2 Axes>"
      ]
     },
     "metadata": {
      "needs_background": "light"
     },
     "output_type": "display_data"
    }
   ],
   "source": [
    "histograms = plt.figure(figsize=(15, 5))\n",
    "ax0, ax1 = histograms.subplots(1, 2)\n",
    "ax0.hist(aa, bins=20)\n",
    "ax0.set_xlabel(\"simulated intercepts\")\n",
    "ax1.hist(bb, bins=20)\n",
    "ax1.set_xlabel(\"simulated slopes\")"
   ]
  },
  {
   "cell_type": "markdown",
   "metadata": {},
   "source": [
    "To express the uncertainty around our parameter, we can report them\n",
    "together with the standard deviation of their simulated distributions:"
   ]
  },
  {
   "cell_type": "code",
   "execution_count": 11,
   "metadata": {
    "jupyter": {
     "outputs_hidden": false,
     "source_hidden": false
    },
    "nteract": {
     "transient": {
      "deleting": false
     }
    }
   },
   "outputs": [
    {
     "name": "stdout",
     "output_type": "stream",
     "text": [
      "Fitted equation with erros:\n",
      "log K = -2.3 (± 0.6) + [GdmCl] • 1.1 (± 0.3)\n"
     ]
    }
   ],
   "source": [
    "std_intercept = np.array(aa).std()\n",
    "std_slope = np.array(bb).std()\n",
    "print(\n",
    "    \"Fitted equation with erros:\\n\"\n",
    "    f\"log K = {INTERCEPT.round(1)} (± {std_intercept.round(1)}) + \"\n",
    "    f\"[GdmCl] • {SLOPE.round(1)} (± {std_slope.round(1)})\"\n",
    ")"
   ]
  },
  {
   "cell_type": "code",
   "execution_count": null,
   "metadata": {},
   "outputs": [],
   "source": []
  }
 ],
 "metadata": {
  "kernelspec": {
   "display_name": "Python 3 (ipykernel)",
   "language": "python",
   "name": "python3"
  },
  "language_info": {
   "codemirror_mode": {
    "name": "ipython",
    "version": 3
   },
   "file_extension": ".py",
   "mimetype": "text/x-python",
   "name": "python",
   "nbconvert_exporter": "python",
   "pygments_lexer": "ipython3",
   "version": "3.9.6"
  }
 },
 "nbformat": 4,
 "nbformat_minor": 1
}
