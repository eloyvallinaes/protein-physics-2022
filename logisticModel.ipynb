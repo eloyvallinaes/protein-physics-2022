{
 "cells": [
  {
   "cell_type": "markdown",
   "id": "e9a68c32",
   "metadata": {},
   "source": [
    "# Protein equilibrium denaturation as a non-linear model\n",
    "\n",
    "The equilibrium denaturation experiment of a two-state folding protein, followed\n",
    "by tryptophan fluorescence, usually produces an S-shaped curve where the \n",
    "intensity of the fluorescent signal remains first stable, then drops sharply and\n",
    "finally reaches a plateau as the concentration of denaturant agent (GdmCl) increases.\n",
    "\n",
    "This behaviour can be modelled by the follow equation, which is related to a\n",
    "logistic function:\n",
    "\n",
    "$$I = I_{0} + \\frac{L}{1 + 10^{m \\cdot (x - x_0)}}$$\n",
    "\n",
    "where $I_{0}$ represents the residual signal when the protein is fully unfolded,\n",
    "$L$ is the total singal change between the native N and dentured D states,\n",
    "$x_0$ is the concentration of denaturant at the midpoint, i.e., half-way through the transition,\n",
    "and $m$ is a parameter related to the sharpness of the transition.\n",
    "\n",
    "We can use this model to fit the equilibrium denaturation experiment data and obtain\n",
    "our estimates for the protein stability, $log(K)$, and midpoint, $[\\mathrm{GdmCl}]_{\\frac{1}{2}}$,\n",
    "directly."
   ]
  },
  {
   "cell_type": "code",
   "execution_count": 1,
   "id": "5f9dfd11",
   "metadata": {},
   "outputs": [],
   "source": [
    "# modules\n",
    "import pandas as pd\n",
    "import numpy as np\n",
    "from scipy.optimize import least_squares\n",
    "import matplotlib.pyplot as plt"
   ]
  },
  {
   "cell_type": "markdown",
   "id": "7bb610c2",
   "metadata": {},
   "source": [
    "## Mock dataset"
   ]
  },
  {
   "cell_type": "code",
   "execution_count": 2,
   "id": "7a9dd185",
   "metadata": {},
   "outputs": [
    {
     "data": {
      "text/html": [
       "<div>\n",
       "<style scoped>\n",
       "    .dataframe tbody tr th:only-of-type {\n",
       "        vertical-align: middle;\n",
       "    }\n",
       "\n",
       "    .dataframe tbody tr th {\n",
       "        vertical-align: top;\n",
       "    }\n",
       "\n",
       "    .dataframe thead th {\n",
       "        text-align: right;\n",
       "    }\n",
       "</style>\n",
       "<table border=\"1\" class=\"dataframe\">\n",
       "  <thead>\n",
       "    <tr style=\"text-align: right;\">\n",
       "      <th></th>\n",
       "      <th>GdmCl</th>\n",
       "      <th>Intensity</th>\n",
       "    </tr>\n",
       "  </thead>\n",
       "  <tbody>\n",
       "    <tr>\n",
       "      <th>0</th>\n",
       "      <td>0.25</td>\n",
       "      <td>101.0</td>\n",
       "    </tr>\n",
       "    <tr>\n",
       "      <th>1</th>\n",
       "      <td>0.50</td>\n",
       "      <td>97.0</td>\n",
       "    </tr>\n",
       "    <tr>\n",
       "      <th>2</th>\n",
       "      <td>0.75</td>\n",
       "      <td>102.0</td>\n",
       "    </tr>\n",
       "    <tr>\n",
       "      <th>3</th>\n",
       "      <td>1.00</td>\n",
       "      <td>96.0</td>\n",
       "    </tr>\n",
       "    <tr>\n",
       "      <th>4</th>\n",
       "      <td>1.50</td>\n",
       "      <td>88.0</td>\n",
       "    </tr>\n",
       "    <tr>\n",
       "      <th>5</th>\n",
       "      <td>1.75</td>\n",
       "      <td>62.0</td>\n",
       "    </tr>\n",
       "    <tr>\n",
       "      <th>6</th>\n",
       "      <td>2.00</td>\n",
       "      <td>52.0</td>\n",
       "    </tr>\n",
       "    <tr>\n",
       "      <th>7</th>\n",
       "      <td>2.50</td>\n",
       "      <td>48.0</td>\n",
       "    </tr>\n",
       "    <tr>\n",
       "      <th>8</th>\n",
       "      <td>2.75</td>\n",
       "      <td>28.0</td>\n",
       "    </tr>\n",
       "    <tr>\n",
       "      <th>9</th>\n",
       "      <td>3.00</td>\n",
       "      <td>20.0</td>\n",
       "    </tr>\n",
       "    <tr>\n",
       "      <th>10</th>\n",
       "      <td>3.50</td>\n",
       "      <td>26.0</td>\n",
       "    </tr>\n",
       "    <tr>\n",
       "      <th>11</th>\n",
       "      <td>4.00</td>\n",
       "      <td>23.0</td>\n",
       "    </tr>\n",
       "  </tbody>\n",
       "</table>\n",
       "</div>"
      ],
      "text/plain": [
       "    GdmCl  Intensity\n",
       "0    0.25      101.0\n",
       "1    0.50       97.0\n",
       "2    0.75      102.0\n",
       "3    1.00       96.0\n",
       "4    1.50       88.0\n",
       "5    1.75       62.0\n",
       "6    2.00       52.0\n",
       "7    2.50       48.0\n",
       "8    2.75       28.0\n",
       "9    3.00       20.0\n",
       "10   3.50       26.0\n",
       "11   4.00       23.0"
      ]
     },
     "execution_count": 2,
     "metadata": {},
     "output_type": "execute_result"
    }
   ],
   "source": [
    "df = pd.DataFrame({\n",
    "    \"GdmCl\": np.array([\n",
    "        0.25,\n",
    "        0.50,\n",
    "        0.75,\n",
    "        1,\n",
    "        1.5,\n",
    "        1.75,\n",
    "        2,\n",
    "        2.5,\n",
    "        2.75,\n",
    "        3,\n",
    "        3.5,\n",
    "        4\n",
    "    ], dtype=float),\n",
    "    \"Intensity\": np.array([\n",
    "        101,\n",
    "        97,\n",
    "        102,\n",
    "        96,\n",
    "        88,\n",
    "        62,\n",
    "        52,\n",
    "        48,\n",
    "        28,\n",
    "        20,  # 20 or 19\n",
    "        26,\n",
    "        23\n",
    "    ], dtype=float)\n",
    "})\n",
    "\n",
    "df.head(12)"
   ]
  },
  {
   "cell_type": "markdown",
   "id": "5c1d2eaa",
   "metadata": {},
   "source": [
    "Which gives the familiar S-shaped curve"
   ]
  },
  {
   "cell_type": "code",
   "execution_count": 3,
   "id": "84cf881c",
   "metadata": {},
   "outputs": [
    {
     "data": {
      "text/plain": [
       "<AxesSubplot:xlabel='GdmCl', ylabel='Intensity'>"
      ]
     },
     "execution_count": 3,
     "metadata": {},
     "output_type": "execute_result"
    },
    {
     "data": {
      "image/png": "[encoded data removed]",
      "text/plain": [
       "<Figure size 360x360 with 1 Axes>"
      ]
     },
     "metadata": {
      "needs_background": "light"
     },
     "output_type": "display_data"
    }
   ],
   "source": [
    "fig = plt.figure(figsize=(5, 5))\n",
    "ax = fig.subplots(1, 1)\n",
    "# ax\n",
    "df.plot.scatter(\n",
    "    \"GdmCl\",\n",
    "    \"Intensity\",\n",
    "    ax=ax\n",
    ")"
   ]
  },
  {
   "cell_type": "markdown",
   "id": "3998d5df",
   "metadata": {},
   "source": [
    "The implementation will be dependent of the programming language you are\n",
    "using (Python, R, etc.) and the libraries found therein, but they are likely\n",
    "to follow a similar scheme.\n",
    "\n",
    "We start by defining functions that calculate the predictions\n",
    "and the residuals:"
   ]
  },
  {
   "cell_type": "code",
   "execution_count": 4,
   "id": "cd13ced2",
   "metadata": {},
   "outputs": [],
   "source": [
    "# Model function\n",
    "def logistic(beta, x):\n",
    "    I0, L, m, x0 = beta\n",
    "    return I0 + L / (1 + np.exp(m*(x - x0)))\n",
    "\n",
    "\n",
    "# Calculate residuals\n",
    "def residuals(beta, x, y):\n",
    "    return y - logistic(beta, x)"
   ]
  },
  {
   "cell_type": "markdown",
   "id": "0b90728e",
   "metadata": {},
   "source": [
    "Then we need to decide on some **initial values**.  As opposed to linear fit problems,\n",
    "which can be solved *analytically*, non-linear fitting can\n",
    "only be solved *numerically*. In practice, this entails an iterative process\n",
    "where an algorithm progressively improves the fit of the model to the data,\n",
    "but changing the values of the parameters. There's different algos for\n",
    "different situations, one popular one being named after a guy called\n",
    "Levenberg-Marquardt, two guys actually.\n",
    "\n",
    "The `residuals` function defined above provides a way for the algorithm\n",
    "to evaluate the quality of the data, it's what's sometimes called\n",
    "the loss-function or the objective-function.\n",
    "\n",
    "Once it gets going, the algoritm **minimises** the loss-function\n",
    "until convergence: it stops when no further improvement\n",
    "can be made by changing the parameters.\n",
    "\n",
    "However, the computer needs to start somewhere, and that's why\n",
    "the initial values are so important. If our initital values\n",
    "are to far off the \"true\" values, we will end up with a bad fit.\n",
    "This is because the algorithms are good at finding **local** solutions,\n",
    "rather than global ones, so as the explore the loss-function,\n",
    "they can get stuck. If we provide good initial values, closer\n",
    "to the actual paramters, we will be more likely to find the optimal\n",
    "fit.\n",
    "\n",
    "Choose wisely now:"
   ]
  },
  {
   "cell_type": "code",
   "execution_count": 5,
   "id": "fae85b90",
   "metadata": {},
   "outputs": [],
   "source": [
    "# beta = I0, L, m, x0\n",
    "beta = [20, 80, 0.1, 3]"
   ]
  },
  {
   "cell_type": "markdown",
   "id": "22c10ce7",
   "metadata": {},
   "source": [
    "Luckily, we don't need to code the algorithm, we will borrow someone else's implementation:"
   ]
  },
  {
   "cell_type": "code",
   "execution_count": 6,
   "id": "260c1ede",
   "metadata": {},
   "outputs": [
    {
     "name": "stdout",
     "output_type": "stream",
     "text": [
      "   Iteration     Total nfev        Cost      Cost reduction    Step norm     Optimality   \n",
      "       0              1         5.2929e+03                                    7.70e+03    \n",
      "       1              5         1.6318e+03      3.66e+03       1.29e+00       2.90e+03    \n",
      "       2              6         3.7326e+02      1.26e+03       2.58e+00       6.73e+02    \n",
      "       3              7         2.1222e+02      1.61e+02       5.16e+00       2.93e+02    \n",
      "       4              8         1.7490e+02      3.73e+01       5.90e+00       5.56e+01    \n",
      "       5              9         1.7400e+02      9.02e-01       1.31e+00       1.52e+01    \n",
      "       6             10         1.7395e+02      4.90e-02       2.86e-01       1.82e+00    \n",
      "       7             11         1.7395e+02      2.05e-03       7.17e-02       7.69e-01    \n",
      "       8             12         1.7395e+02      1.09e-04       1.24e-02       1.26e-01    \n",
      "       9             13         1.7395e+02      6.01e-06       3.74e-03       3.90e-02    \n",
      "      10             14         1.7395e+02      3.35e-07       7.53e-04       7.82e-03    \n",
      "`ftol` termination condition is satisfied.\n",
      "Function evaluations 14, initial cost 5.2929e+03, final cost 1.7395e+02, first-order optimality 7.82e-03.\n"
     ]
    }
   ],
   "source": [
    "lsq = least_squares(residuals, beta, args=(df.GdmCl, df.Intensity), verbose=2)"
   ]
  },
  {
   "cell_type": "markdown",
   "id": "6b62dba8",
   "metadata": {},
   "source": [
    "The table above collects the refinements the algorithm has made over\n",
    "several iterations. If you look at the `Cost` column, you can see\n",
    "by how much the fit of our model improved from our initial guesses.\n",
    "\n",
    "The solutions are given as an attribute to the `lsq` object (blablabla python jargon):"
   ]
  },
  {
   "cell_type": "code",
   "execution_count": 7,
   "id": "a0e99636",
   "metadata": {},
   "outputs": [
    {
     "name": "stdout",
     "output_type": "stream",
     "text": [
      "solutions = [22.82249654 80.26728698  2.57948355  1.86748911]\n"
     ]
    }
   ],
   "source": [
    "beta_solutions = lsq.x  # the attribute was called x because..\n",
    "print(f\"solutions = {beta_solutions}\")"
   ]
  },
  {
   "cell_type": "markdown",
   "id": "58050474",
   "metadata": {},
   "source": [
    "Now we can pass those solutions to our `logistic` model function, and compare\n",
    "the model to our measurements:"
   ]
  },
  {
   "cell_type": "code",
   "execution_count": 8,
   "id": "9b270f89",
   "metadata": {},
   "outputs": [
    {
     "data": {
      "text/plain": [
       "Text(0, 0.5, 'Fluorescence Intensity')"
      ]
     },
     "execution_count": 8,
     "metadata": {},
     "output_type": "execute_result"
    },
    {
     "data": {
      "image/png": "[encoded data removed]",
      "text/plain": [
       "<Figure size 360x360 with 1 Axes>"
      ]
     },
     "metadata": {
      "needs_background": "light"
     },
     "output_type": "display_data"
    }
   ],
   "source": [
    "# Predictions\n",
    "Xpred = np.linspace(df.GdmCl.min(), df.GdmCl.max(), 100)\n",
    "Ypred = logistic(beta_solutions, Xpred)\n",
    "\n",
    "fig = plt.figure(figsize=(5, 5))\n",
    "ax = fig.add_subplot(111)\n",
    "ax.scatter(df.GdmCl, df.Intensity, marker=\"o\", color=\"red\")\n",
    "plt.plot(Xpred, Ypred, linestyle=\"-\", color=\"blue\")\n",
    "plt.xlabel(\"[Denaturant] / M\")\n",
    "plt.ylabel(\"Fluorescence Intensity\")"
   ]
  },
  {
   "cell_type": "markdown",
   "id": "3280c087",
   "metadata": {},
   "source": [
    "Not bad! From the reported solutions we can directly read\n",
    "the value of the midpoint as 1.9 M GdmCl.\n",
    "\n",
    "The stability of the protein is not directly\n",
    "visible in that equation, but we saw it during the derivation\n",
    "of this model where, we included\n",
    "$\\Delta G$ as follows:\n",
    "\n",
    "$$I = I_0 + \\frac{L}{1 + 10^{\\Delta G/2.3RT}}$$\n",
    "\n",
    "where $\\Delta G / 2.3 RT = - \\log(K)$. That expression became \n",
    "\n",
    "$$I = I_0 + \\frac{L}{1 + 10^{\\gamma \\cdot (x - x_0)/2.3RT}}$$\n",
    "\n",
    "when we took into account the known relationship between $\\Delta G$ and\n",
    "denaturant concentration, such that we can identify $\\gamma / 2.3RT = m$ and so\n",
    "it follows that\n",
    "\n",
    "$$m \\cdot (x - x_0) = - \\log(K),$$\n",
    "\n",
    "which at [GdmCl] = 0 becomes \n",
    "\n",
    "$$ m(-x_0) = -\\log(K)$$"
   ]
  },
  {
   "cell_type": "code",
   "execution_count": 9,
   "id": "9e3e70c5",
   "metadata": {},
   "outputs": [
    {
     "name": "stdout",
     "output_type": "stream",
     "text": [
      "log(K) = 4.817157432633504\n"
     ]
    }
   ],
   "source": [
    "stability = beta_solutions[3] * beta_solutions[2]\n",
    "print(f\"log(K) = {stability}\")"
   ]
  },
  {
   "cell_type": "code",
   "execution_count": null,
   "id": "a345e771",
   "metadata": {},
   "outputs": [],
   "source": []
  }
 ],
 "metadata": {
  "kernelspec": {
   "display_name": "Python 3 (ipykernel)",
   "language": "python",
   "name": "python3"
  },
  "language_info": {
   "codemirror_mode": {
    "name": "ipython",
    "version": 3
   },
   "file_extension": ".py",
   "mimetype": "text/x-python",
   "name": "python",
   "nbconvert_exporter": "python",
   "pygments_lexer": "ipython3",
   "version": "3.9.6"
  }
 },
 "nbformat": 4,
 "nbformat_minor": 5
}
