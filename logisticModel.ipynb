{
 "cells": [
  {
   "cell_type": "markdown",
   "id": "e9a68c32",
   "metadata": {},
   "source": [
    "# Protein equilibrium denaturation as a non-linear model\n",
    "\n",
    "The equilibrium denaturation experiment of a two-state folding protein, followed\n",
    "by tryptophan fluorescence, usually produces an S-shaped curve where the \n",
    "intensity of the fluorescent signal remains first stable, then drops sharply and\n",
    "finally reaches a plateau as the concentration of denaturant agent (GdmCl) increases.\n",
    "\n",
    "This behaviour can be modelled by the follow equation, which is related to a\n",
    "logistic function:\n",
    "\n",
    "$$I = I_{0} + \\frac{L}{1 + 10^{m \\cdot (x - x_0)}}$$\n",
    "\n",
    "where $I_{0}$ represents the residual signal when the protein is fully unfolded,\n",
    "$L$ is the total singal change between the native N and dentured D states,\n",
    "$x_0$ is the concentration of denaturant at the midpoint, i.e., half-way through the transition,\n",
    "and $m$ is a parameter related to the sharpness of the transition.\n",
    "\n",
    "We can use this model to fit the equilibrium denaturation experiment data and obtain\n",
    "our estimates for the protein stability, $log(K)$, and midpoint, $[\\mathrm{GdmCl}]_{\\frac{1}{2}}$,\n",
    "directly."
   ]
  },
  {
   "cell_type": "code",
   "execution_count": 1,
   "id": "5f9dfd11",
   "metadata": {},
   "outputs": [],
   "source": [
    "# modules\n",
    "import pandas as pd\n",
    "import numpy as np\n",
    "from scipy.optimize import least_squares\n",
    "import matplotlib.pyplot as plt"
   ]
  },
  {
   "cell_type": "markdown",
   "id": "7bb610c2",
   "metadata": {},
   "source": [
    "## Experimental dataset"
   ]
  },
  {
   "cell_type": "code",
   "execution_count": 2,
   "id": "7a9dd185",
   "metadata": {},
   "outputs": [
    {
     "data": {
      "text/html": [
       "<div>\n",
       "<style scoped>\n",
       "    .dataframe tbody tr th:only-of-type {\n",
       "        vertical-align: middle;\n",
       "    }\n",
       "\n",
       "    .dataframe tbody tr th {\n",
       "        vertical-align: top;\n",
       "    }\n",
       "\n",
       "    .dataframe thead th {\n",
       "        text-align: right;\n",
       "    }\n",
       "</style>\n",
       "<table border=\"1\" class=\"dataframe\">\n",
       "  <thead>\n",
       "    <tr style=\"text-align: right;\">\n",
       "      <th></th>\n",
       "      <th>GdmCl</th>\n",
       "      <th>Intensity</th>\n",
       "    </tr>\n",
       "  </thead>\n",
       "  <tbody>\n",
       "    <tr>\n",
       "      <th>0</th>\n",
       "      <td>0.000</td>\n",
       "      <td>8657.267</td>\n",
       "    </tr>\n",
       "    <tr>\n",
       "      <th>1</th>\n",
       "      <td>0.600</td>\n",
       "      <td>8289.416</td>\n",
       "    </tr>\n",
       "    <tr>\n",
       "      <th>2</th>\n",
       "      <td>1.200</td>\n",
       "      <td>8433.930</td>\n",
       "    </tr>\n",
       "    <tr>\n",
       "      <th>3</th>\n",
       "      <td>1.500</td>\n",
       "      <td>8318.048</td>\n",
       "    </tr>\n",
       "    <tr>\n",
       "      <th>4</th>\n",
       "      <td>2.400</td>\n",
       "      <td>7872.482</td>\n",
       "    </tr>\n",
       "    <tr>\n",
       "      <th>5</th>\n",
       "      <td>2.625</td>\n",
       "      <td>7380.595</td>\n",
       "    </tr>\n",
       "    <tr>\n",
       "      <th>6</th>\n",
       "      <td>3.000</td>\n",
       "      <td>6495.085</td>\n",
       "    </tr>\n",
       "    <tr>\n",
       "      <th>7</th>\n",
       "      <td>3.150</td>\n",
       "      <td>5453.033</td>\n",
       "    </tr>\n",
       "    <tr>\n",
       "      <th>8</th>\n",
       "      <td>3.375</td>\n",
       "      <td>4181.661</td>\n",
       "    </tr>\n",
       "    <tr>\n",
       "      <th>9</th>\n",
       "      <td>3.525</td>\n",
       "      <td>3815.875</td>\n",
       "    </tr>\n",
       "    <tr>\n",
       "      <th>10</th>\n",
       "      <td>3.750</td>\n",
       "      <td>3358.843</td>\n",
       "    </tr>\n",
       "    <tr>\n",
       "      <th>11</th>\n",
       "      <td>4.125</td>\n",
       "      <td>3089.038</td>\n",
       "    </tr>\n",
       "  </tbody>\n",
       "</table>\n",
       "</div>"
      ],
      "text/plain": [
       "    GdmCl  Intensity\n",
       "0   0.000   8657.267\n",
       "1   0.600   8289.416\n",
       "2   1.200   8433.930\n",
       "3   1.500   8318.048\n",
       "4   2.400   7872.482\n",
       "5   2.625   7380.595\n",
       "6   3.000   6495.085\n",
       "7   3.150   5453.033\n",
       "8   3.375   4181.661\n",
       "9   3.525   3815.875\n",
       "10  3.750   3358.843\n",
       "11  4.125   3089.038"
      ]
     },
     "execution_count": 2,
     "metadata": {},
     "output_type": "execute_result"
    }
   ],
   "source": [
    "df = pd.DataFrame({\n",
    "    \"GdmCl\": np.array([\n",
    "        0,\n",
    "        0.6,\n",
    "        1.2,\n",
    "        1.5,\n",
    "        2.4,\n",
    "        2.625,\n",
    "        3,\n",
    "        3.15,\n",
    "        3.375,\n",
    "        3.525,\n",
    "        3.75,\n",
    "        4.125,\n",
    "        4.8,\n",
    "        6\n",
    "    ], dtype=float),\n",
    "    \"Intensity\": np.array([\n",
    "        8657.267,\n",
    "        8289.416,\n",
    "        8433.93,\n",
    "        8318.048,\n",
    "        7872.482,\n",
    "        7380.595,\n",
    "        6495.085,\n",
    "        5453.033,\n",
    "        4181.661,\n",
    "        3815.875,\n",
    "        3358.843,\n",
    "        3089.038,\n",
    "        2968.995,\n",
    "        3088.639\n",
    "    ], dtype=float)\n",
    "})\n",
    "\n",
    "df.head(12)"
   ]
  },
  {
   "cell_type": "markdown",
   "id": "5c1d2eaa",
   "metadata": {},
   "source": [
    "Which gives the familiar S-shaped curve"
   ]
  },
  {
   "cell_type": "code",
   "execution_count": 3,
   "id": "84cf881c",
   "metadata": {},
   "outputs": [
    {
     "data": {
      "text/plain": [
       "<AxesSubplot:xlabel='GdmCl', ylabel='Intensity'>"
      ]
     },
     "execution_count": 3,
     "metadata": {},
     "output_type": "execute_result"
    },
    {
     "data": {
      "image/png": "[encoded data removed]",
      "text/plain": [
       "<Figure size 360x360 with 1 Axes>"
      ]
     },
     "metadata": {
      "needs_background": "light"
     },
     "output_type": "display_data"
    }
   ],
   "source": [
    "fig = plt.figure(figsize=(5, 5))\n",
    "ax = fig.subplots(1, 1)\n",
    "# ax\n",
    "df.plot.scatter(\n",
    "    \"GdmCl\",\n",
    "    \"Intensity\",\n",
    "    ax=ax\n",
    ")"
   ]
  },
  {
   "cell_type": "markdown",
   "id": "3998d5df",
   "metadata": {},
   "source": [
    "The implementation will be dependent of the programming language you are\n",
    "using (Python, R, etc.) and the libraries found therein, but they are likely\n",
    "to follow a similar scheme.\n",
    "\n",
    "We start by defining functions that calculate the predictions\n",
    "and the residuals:"
   ]
  },
  {
   "cell_type": "code",
   "execution_count": 4,
   "id": "cd13ced2",
   "metadata": {},
   "outputs": [],
   "source": [
    "# Model function\n",
    "def logistic(x, beta):\n",
    "    I0, L, m, x0 = beta\n",
    "    return I0 + L / (1 + np.power(10, m*(x - x0)))\n",
    "\n",
    "\n",
    "# Calculate residuals\n",
    "def residuals(beta, x, y):\n",
    "    return y - logistic(x, beta)"
   ]
  },
  {
   "cell_type": "markdown",
   "id": "0b90728e",
   "metadata": {},
   "source": [
    "Then we need to decide on some **initial values**.  As opposed to linear fit problems,\n",
    "which can be solved *analytically*, non-linear fitting can\n",
    "only be solved *numerically*. In practice, this entails an iterative process\n",
    "where an algorithm progressively improves the fit of the model to the data,\n",
    "but changing the values of the parameters. There's different algos for\n",
    "different situations, one popular one being named after a guy called\n",
    "Levenberg-Marquardt, two guys actually.\n",
    "\n",
    "The `residuals` function defined above provides a way for the algorithm\n",
    "to evaluate the quality of the data, it's what's sometimes called\n",
    "the loss-function or the objective-function.\n",
    "\n",
    "Once it gets going, the algoritm **minimises** the loss-function\n",
    "until convergence: it stops when no further improvement\n",
    "can be made by changing the parameters.\n",
    "\n",
    "However, the computer needs to start somewhere, and that's why\n",
    "the initial values are so important. If our initital values\n",
    "are to far off the \"true\" values, we will end up with a bad fit.\n",
    "This is because the algorithms are good at finding **local** solutions,\n",
    "rather than global ones, so as the explore the loss-function,\n",
    "they can get stuck. If we provide good initial values, closer\n",
    "to the actual paramters, we will be more likely to find the optimal\n",
    "fit.\n",
    "\n",
    "Choose wisely now:"
   ]
  },
  {
   "cell_type": "code",
   "execution_count": 5,
   "id": "fae85b90",
   "metadata": {},
   "outputs": [],
   "source": [
    "# beta = I0, L, m, x0\n",
    "beta = [3000, 8000, 1, 1]"
   ]
  },
  {
   "cell_type": "markdown",
   "id": "22c10ce7",
   "metadata": {},
   "source": [
    "Luckily, we don't need to code the algorithm, we will borrow someone else's implementation:"
   ]
  },
  {
   "cell_type": "code",
   "execution_count": 6,
   "id": "260c1ede",
   "metadata": {},
   "outputs": [
    {
     "name": "stdout",
     "output_type": "stream",
     "text": [
      "   Iteration     Total nfev        Cost      Cost reduction    Step norm     Optimality   \n",
      "       0              1         3.8872e+07                                    2.35e+07    \n",
      "       1              8         2.1510e+07      1.74e+07       4.75e-01       3.96e+07    \n",
      "       2             10         1.1331e+07      1.02e+07       2.37e-01       3.19e+07    \n",
      "       3             11         7.3070e+06      4.02e+06       4.75e-01       2.57e+07    \n",
      "       4             12         5.9724e+06      1.33e+06       4.75e-01       3.27e+06    \n",
      "       5             13         5.9360e+06      3.64e+04       9.50e-01       2.56e+05    \n",
      "       6             14         5.9282e+06      7.82e+03       1.90e+00       1.87e+05    \n",
      "       7             15         5.9163e+06      1.19e+04       3.80e+00       5.77e+04    \n",
      "       8             16         5.8928e+06      2.35e+04       7.60e+00       1.03e+05    \n",
      "       9             17         5.8460e+06      4.68e+04       1.52e+01       1.88e+05    \n",
      "      10             18         5.7529e+06      9.30e+04       3.04e+01       3.76e+05    \n",
      "      11             19         5.5691e+06      1.84e+05       6.08e+01       7.62e+05    \n",
      "      12             20         5.2103e+06      3.59e+05       1.22e+02       1.56e+06    \n",
      "      13             21         4.5275e+06      6.83e+05       2.43e+02       3.23e+06    \n",
      "      14             22         3.3493e+06      1.18e+06       4.86e+02       6.04e+06    \n",
      "      15             23         2.0984e+06      1.25e+06       9.73e+02       5.70e+06    \n",
      "      16             24         1.2526e+06      8.46e+05       1.95e+03       2.88e+06    \n",
      "      17             25         2.3396e+05      1.02e+06       6.14e+02       2.75e+06    \n",
      "      18             26         1.6355e+05      7.04e+04       5.03e+01       3.04e+05    \n",
      "      19             27         1.6227e+05      1.28e+03       1.90e+01       9.01e+03    \n",
      "      20             28         1.6224e+05      3.10e+01       3.73e+00       6.34e+03    \n",
      "      21             29         1.6224e+05      1.15e+00       3.76e-01       8.28e+02    \n",
      "      22             30         1.6224e+05      4.78e-02       1.13e-01       2.14e+02    \n",
      "      23             31         1.6224e+05      2.03e-03       2.04e-02       4.06e+01    \n",
      "      24             32         1.6224e+05      8.68e-05       4.47e-03       8.72e+00    \n",
      "`ftol` termination condition is satisfied.\n",
      "Function evaluations 32, initial cost 3.8872e+07, final cost 1.6224e+05, first-order optimality 8.72e+00.\n"
     ]
    }
   ],
   "source": [
    "lsq = least_squares(residuals, beta, args=(df.GdmCl, df.Intensity), verbose=2)"
   ]
  },
  {
   "cell_type": "markdown",
   "id": "6b62dba8",
   "metadata": {},
   "source": [
    "The table above collects the refinements the algorithm has made over\n",
    "several iterations. If you look at the `Cost` column, you can see\n",
    "by how much the fit of our model improved from our initial guesses.\n",
    "\n",
    "The solutions are given as an attribute to the `lsq` object (blablabla python jargon):"
   ]
  },
  {
   "cell_type": "code",
   "execution_count": 7,
   "id": "a0e99636",
   "metadata": {},
   "outputs": [
    {
     "name": "stdout",
     "output_type": "stream",
     "text": [
      "solutions = [2.97740889e+03 5.39647095e+03 1.66908859e+00 3.10013615e+00]\n"
     ]
    }
   ],
   "source": [
    "beta_solutions = lsq.x  # the attribute was called x because..\n",
    "print(f\"solutions = {beta_solutions}\")"
   ]
  },
  {
   "cell_type": "markdown",
   "id": "58050474",
   "metadata": {},
   "source": [
    "Now we can pass those solutions to our `logistic` model function, and compare\n",
    "the model to our measurements:"
   ]
  },
  {
   "cell_type": "code",
   "execution_count": 8,
   "id": "9b270f89",
   "metadata": {},
   "outputs": [
    {
     "data": {
      "text/plain": [
       "Text(0, 0.5, 'Fluorescence Intensity')"
      ]
     },
     "execution_count": 8,
     "metadata": {},
     "output_type": "execute_result"
    },
    {
     "data": {
      "image/png": "[encoded data removed]",
      "text/plain": [
       "<Figure size 360x360 with 1 Axes>"
      ]
     },
     "metadata": {
      "needs_background": "light"
     },
     "output_type": "display_data"
    }
   ],
   "source": [
    "# Predictions\n",
    "Xpred = np.linspace(df.GdmCl.min(), df.GdmCl.max(), 100)\n",
    "Ypred = logistic(Xpred, beta_solutions)\n",
    "\n",
    "fig = plt.figure(figsize=(5, 5))\n",
    "ax = fig.add_subplot(111)\n",
    "ax.scatter(df.GdmCl, df.Intensity, marker=\"o\", color=\"red\")\n",
    "plt.plot(Xpred, Ypred, linestyle=\"-\", color=\"blue\")\n",
    "plt.xlabel(\"[Denaturant] / M\")\n",
    "plt.ylabel(\"Fluorescence Intensity\")"
   ]
  },
  {
   "cell_type": "markdown",
   "id": "3280c087",
   "metadata": {},
   "source": [
    "Not bad! From the reported solutions we can directly read\n",
    "the value of the midpoint as $x_0$.\n",
    "\n",
    "The stability of the protein is not directly\n",
    "visible in that equation, but we saw it during the derivation\n",
    "of this model where, we included\n",
    "$\\Delta G$ as follows:\n",
    "\n",
    "$$I = I_0 + \\frac{L}{1 + 10^{\\Delta G/2.3RT}}$$\n",
    "\n",
    "where $\\Delta G / 2.3 RT = - \\log(K)$. That expression became \n",
    "\n",
    "$$I = I_0 + \\frac{L}{1 + 10^{\\gamma \\cdot (x - x_0)/2.3RT}}$$\n",
    "\n",
    "when we took into account the known relationship between $\\Delta G$ and\n",
    "denaturant concentration, such that we can identify $\\gamma / 2.3RT = m$ and so\n",
    "it follows that\n",
    "\n",
    "$$m \\cdot (x - x_0) = - \\log(K),$$\n",
    "\n",
    "which at [GdmCl] = 0 becomes \n",
    "\n",
    "$$ m(-x_0) = -\\log(K)$$"
   ]
  },
  {
   "cell_type": "code",
   "execution_count": 9,
   "id": "9e3e70c5",
   "metadata": {},
   "outputs": [
    {
     "name": "stdout",
     "output_type": "stream",
     "text": [
      "log(K) = 5.174401857653303\n"
     ]
    }
   ],
   "source": [
    "stability = beta_solutions[3] * beta_solutions[2]\n",
    "print(f\"log(K) = {stability}\")"
   ]
  },
  {
   "cell_type": "markdown",
   "id": "c8e26d37",
   "metadata": {},
   "source": [
    "## Error in the parameters\n",
    "\n",
    "We follow the same approach as with the log-linear model and simulate data of the same quality as the data measured during the experiment, that is with the same standard deviation of the residuals:"
   ]
  },
  {
   "cell_type": "code",
   "execution_count": 10,
   "id": "37fba9d5",
   "metadata": {},
   "outputs": [
    {
     "data": {
      "image/png": "[encoded data removed]",
      "text/plain": [
       "<Figure size 432x288 with 1 Axes>"
      ]
     },
     "metadata": {
      "needs_background": "light"
     },
     "output_type": "display_data"
    }
   ],
   "source": [
    "df['Ipred'] = df.GdmCl.apply(logistic, beta=beta_solutions)\n",
    "df['residuals'] = df.Ipred - df.Intensity\n",
    "df['sqres'] = df.residuals ** 2\n",
    "dfres = df.shape[0] - 2  # degrees of freedom of residuals\n",
    "sigma = np.sqrt(df.sqres.sum() / dfres)\n",
    "\n",
    "error_fig = plt.figure()\n",
    "ax = error_fig.subplots(1, 1)\n",
    "sim_beta = []\n",
    "for i in range(1000):  # more repeats take more time\n",
    "    noise = np.random.normal(0, sigma, df.shape[0]) # Guassian residuals\n",
    "    Isim = df.Ipred + noise\n",
    "    # fit the simulated dataset\n",
    "    sim_lsq = least_squares(residuals, beta_solutions, args=(df.GdmCl, Isim), verbose=0)\n",
    "    # track params\n",
    "    sim_beta.append(sim_lsq.x)    \n",
    "    # draw\n",
    "    if i <= 10:\n",
    "        ax.scatter(df.GdmCl, Isim, marker=\".\", color=\"g\")\n",
    "        ax.plot(Xpred, logistic(Xpred, sim_lsq.x), linestyle=\"-\", color=\"r\", alpha=0.5)\n",
    "\n",
    "# collected fitting parameters\n",
    "sim_beta = np.array(sim_beta)"
   ]
  },
  {
   "cell_type": "code",
   "execution_count": 11,
   "id": "41e70b17",
   "metadata": {},
   "outputs": [
    {
     "name": "stdout",
     "output_type": "stream",
     "text": [
      "Std. of parameters: [9.80926371e+01 1.28828681e+02 1.42184402e-01 2.40202335e-02]\n"
     ]
    }
   ],
   "source": [
    "sim_std = np.array(sim_beta).std(axis=0)  # I0, L, m, x0\n",
    "print(\"Std. of parameters:\", sim_std)"
   ]
  },
  {
   "cell_type": "markdown",
   "id": "eb10fbce",
   "metadata": {},
   "source": [
    "Here we plot the simulated distributions of $m$ and $x_0$. These represent\n",
    "the likelihood of obtaning different parameter values for data of the same\n",
    "quality as in our experiment."
   ]
  },
  {
   "cell_type": "code",
   "execution_count": 12,
   "id": "ce104fd4",
   "metadata": {},
   "outputs": [
    {
     "data": {
      "text/plain": [
       "Text(0.5, 0, 'simulated x0')"
      ]
     },
     "execution_count": 12,
     "metadata": {},
     "output_type": "execute_result"
    },
    {
     "data": {
      "image/png": "[encoded data removed]",
      "text/plain": [
       "<Figure size 1080x360 with 2 Axes>"
      ]
     },
     "metadata": {
      "needs_background": "light"
     },
     "output_type": "display_data"
    }
   ],
   "source": [
    "histograms = plt.figure(figsize=(15, 5))\n",
    "ax0, ax1 = histograms.subplots(1, 2)\n",
    "ax0.hist(sim_beta[:, 2], bins=20, edgecolor=\"w\")\n",
    "ax0.set_xlabel(\"simulated m\")\n",
    "ax1.hist(sim_beta[:, 3], bins=20, edgecolor=\"w\")\n",
    "ax1.set_xlabel(\"simulated x0\")"
   ]
  },
  {
   "cell_type": "code",
   "execution_count": 13,
   "id": "dd8cc1f0",
   "metadata": {},
   "outputs": [
    {
     "name": "stdout",
     "output_type": "stream",
     "text": [
      "Parameters with errors:\n",
      "I_0 = 2977.4 ± 98.1\n",
      "L = 5396.5 ± 128.8\n",
      "m = 1.7 ± 0.1\n",
      "x_0 = 3.1 ± 0.02\n"
     ]
    }
   ],
   "source": [
    "print(\"Parameters with errors:\")\n",
    "print(f\"I_0 = {beta_solutions[0].round(1)} ± {sim_std[0].round(1)}\")\n",
    "print(f\"L = {beta_solutions[1].round(1)} ± {sim_std[1].round(1)}\")\n",
    "print(f\"m = {beta_solutions[2].round(1)} ± {sim_std[2].round(1)}\")\n",
    "print(f\"x_0 = {beta_solutions[3].round(2)} ± {sim_std[3].round(2)}\")\n"
   ]
  },
  {
   "cell_type": "markdown",
   "id": "1a8876c9",
   "metadata": {},
   "source": [
    "### Error propagation to the stability\n",
    "From the error in the parameters, we need to estimate the error in the property\n",
    "we originally were interested in. This is called propagation of the \n",
    "uncertainty. Intuitively, the uncertainty in $x_0$ and $m$ must somehow\n",
    "translate to an uncertainty in $\\log{K}$.\n",
    "\n",
    "For a variable which is the result of the multiplication of two *independent* factor,\n",
    "its standard deviation can be obtained as described in https://en.wikipedia.org/wiki/Propagation_of_uncertainty#Simplification:\n",
    "$$\\sigma_f  \\approx |f| \\cdot \\sqrt{(\\sigma_A/A)^2 + (\\sigma_B/B)^2} $$\n",
    "so in our case, for $\\log{K}$:\n",
    "\\begin{equation}\n",
    "\\sigma_{\\log{K}} \\approx |\\log{K}| \\cdot \\sqrt{(\\sigma_{x_0}/x_0)^2 + (\\sigma_m/m)^2}\n",
    "\\end{equation}"
   ]
  },
  {
   "cell_type": "code",
   "execution_count": 14,
   "id": "95bada4b",
   "metadata": {},
   "outputs": [
    {
     "name": "stdout",
     "output_type": "stream",
     "text": [
      "stability std. = 0.44261051689141123\n"
     ]
    }
   ],
   "source": [
    "std_stability = (\n",
    "        stability\n",
    "        * np.sqrt(\n",
    "            np.sum(\n",
    "                (sim_std[2:]/beta_solutions[2:]) ** 2\n",
    "            )\n",
    "        )\n",
    ")\n",
    "print(f\"stability std. = {std_stability}\")"
   ]
  },
  {
   "cell_type": "code",
   "execution_count": 15,
   "id": "ba296e70",
   "metadata": {},
   "outputs": [
    {
     "name": "stdout",
     "output_type": "stream",
     "text": [
      "Stability = logK = 5.2 ± 0.4\n"
     ]
    }
   ],
   "source": [
    "print(f\"Stability = logK = {stability.round(1)} ± {std_stability.round(1)}\")"
   ]
  }
 ],
 "metadata": {
  "kernelspec": {
   "display_name": "Python 3 (ipykernel)",
   "language": "python",
   "name": "python3"
  },
  "language_info": {
   "codemirror_mode": {
    "name": "ipython",
    "version": 3
   },
   "file_extension": ".py",
   "mimetype": "text/x-python",
   "name": "python",
   "nbconvert_exporter": "python",
   "pygments_lexer": "ipython3",
   "version": "3.9.6"
  }
 },
 "nbformat": 4,
 "nbformat_minor": 5
}
