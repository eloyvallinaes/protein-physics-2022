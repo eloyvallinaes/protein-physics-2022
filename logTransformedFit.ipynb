{
 "cells": [
  {
   "cell_type": "markdown",
   "metadata": {
    "nteract": {
     "transient": {
      "deleting": false
     }
    }
   },
   "source": [
    "# Protein stability as a log-linear problem\n"
   ]
  },
  {
   "cell_type": "code",
   "execution_count": 1,
   "metadata": {
    "jupyter": {
     "outputs_hidden": false,
     "source_hidden": false
    },
    "nteract": {
     "transient": {
      "deleting": false
     }
    }
   },
   "outputs": [],
   "source": [
    "# Modules\n",
    "import pandas as pd\n",
    "import numpy as np\n",
    "from scipy.stats import linregress\n",
    "import matplotlib.pyplot as plt\n"
   ]
  },
  {
   "cell_type": "markdown",
   "metadata": {
    "nteract": {
     "transient": {
      "deleting": false
     }
    }
   },
   "source": [
    "## Mock dataset\n",
    "A dataset representing a possible equilibrium denaturation\n",
    "experiment followed by tryptophan fluorescence."
   ]
  },
  {
   "cell_type": "code",
   "execution_count": 2,
   "metadata": {
    "jupyter": {
     "outputs_hidden": false,
     "source_hidden": false
    },
    "nteract": {
     "transient": {
      "deleting": false
     }
    }
   },
   "outputs": [
    {
     "data": {
      "text/html": [
       "<div>\n",
       "<style scoped>\n",
       "    .dataframe tbody tr th:only-of-type {\n",
       "        vertical-align: middle;\n",
       "    }\n",
       "\n",
       "    .dataframe tbody tr th {\n",
       "        vertical-align: top;\n",
       "    }\n",
       "\n",
       "    .dataframe thead th {\n",
       "        text-align: right;\n",
       "    }\n",
       "</style>\n",
       "<table border=\"1\" class=\"dataframe\">\n",
       "  <thead>\n",
       "    <tr style=\"text-align: right;\">\n",
       "      <th></th>\n",
       "      <th>GdmCl</th>\n",
       "      <th>Intensity</th>\n",
       "    </tr>\n",
       "  </thead>\n",
       "  <tbody>\n",
       "    <tr>\n",
       "      <th>0</th>\n",
       "      <td>0.25</td>\n",
       "      <td>101.0</td>\n",
       "    </tr>\n",
       "    <tr>\n",
       "      <th>1</th>\n",
       "      <td>0.50</td>\n",
       "      <td>97.0</td>\n",
       "    </tr>\n",
       "    <tr>\n",
       "      <th>2</th>\n",
       "      <td>0.75</td>\n",
       "      <td>102.0</td>\n",
       "    </tr>\n",
       "    <tr>\n",
       "      <th>3</th>\n",
       "      <td>1.00</td>\n",
       "      <td>96.0</td>\n",
       "    </tr>\n",
       "    <tr>\n",
       "      <th>4</th>\n",
       "      <td>1.50</td>\n",
       "      <td>88.0</td>\n",
       "    </tr>\n",
       "    <tr>\n",
       "      <th>5</th>\n",
       "      <td>1.75</td>\n",
       "      <td>62.0</td>\n",
       "    </tr>\n",
       "    <tr>\n",
       "      <th>6</th>\n",
       "      <td>2.00</td>\n",
       "      <td>52.0</td>\n",
       "    </tr>\n",
       "    <tr>\n",
       "      <th>7</th>\n",
       "      <td>2.50</td>\n",
       "      <td>48.0</td>\n",
       "    </tr>\n",
       "    <tr>\n",
       "      <th>8</th>\n",
       "      <td>2.75</td>\n",
       "      <td>28.0</td>\n",
       "    </tr>\n",
       "    <tr>\n",
       "      <th>9</th>\n",
       "      <td>3.00</td>\n",
       "      <td>20.0</td>\n",
       "    </tr>\n",
       "    <tr>\n",
       "      <th>10</th>\n",
       "      <td>3.50</td>\n",
       "      <td>26.0</td>\n",
       "    </tr>\n",
       "    <tr>\n",
       "      <th>11</th>\n",
       "      <td>4.00</td>\n",
       "      <td>23.0</td>\n",
       "    </tr>\n",
       "  </tbody>\n",
       "</table>\n",
       "</div>"
      ],
      "text/plain": [
       "    GdmCl  Intensity\n",
       "0    0.25      101.0\n",
       "1    0.50       97.0\n",
       "2    0.75      102.0\n",
       "3    1.00       96.0\n",
       "4    1.50       88.0\n",
       "5    1.75       62.0\n",
       "6    2.00       52.0\n",
       "7    2.50       48.0\n",
       "8    2.75       28.0\n",
       "9    3.00       20.0\n",
       "10   3.50       26.0\n",
       "11   4.00       23.0"
      ]
     },
     "execution_count": 2,
     "metadata": {},
     "output_type": "execute_result"
    }
   ],
   "source": [
    "df = pd.DataFrame({\n",
    "    \"GdmCl\": np.array([\n",
    "        0.25,\n",
    "        0.50,\n",
    "        0.75,\n",
    "        1,\n",
    "        1.5,\n",
    "        1.75,\n",
    "        2,\n",
    "        2.5,\n",
    "        2.75,\n",
    "        3,\n",
    "        3.5,\n",
    "        4\n",
    "    ], dtype=float),\n",
    "    \"Intensity\": np.array([\n",
    "        101,\n",
    "        97,\n",
    "        102,\n",
    "        96,\n",
    "        88,\n",
    "        62,\n",
    "        52,\n",
    "        48,\n",
    "        28,\n",
    "        20,  # 20 or 19\n",
    "        26,\n",
    "        23\n",
    "    ], dtype=float)\n",
    "})\n",
    "\n",
    "df.head(12)\n",
    "\n"
   ]
  },
  {
   "cell_type": "code",
   "execution_count": 3,
   "metadata": {},
   "outputs": [
    {
     "data": {
      "text/plain": [
       "<matplotlib.lines.Line2D at 0x128ab8ac0>"
      ]
     },
     "execution_count": 3,
     "metadata": {},
     "output_type": "execute_result"
    },
    {
     "data": {
      "image/png": "[encoded data removed]",
      "text/plain": [
       "<Figure size 360x360 with 1 Axes>"
      ]
     },
     "metadata": {
      "needs_background": "light"
     },
     "output_type": "display_data"
    }
   ],
   "source": [
    "fig = plt.figure(figsize=(5, 5))\n",
    "ax = fig.subplots(1, 1)\n",
    "# ax\n",
    "df.plot.scatter(\n",
    "    \"GdmCl\",\n",
    "    \"Intensity\",\n",
    "    ax=ax\n",
    ")\n",
    "ax.axhline(20, linestyle=\"--\", color=\"r\")\n",
    "ax.axhline(98, linestyle=\"--\", color=\"r\")"
   ]
  },
  {
   "cell_type": "markdown",
   "metadata": {
    "nteract": {
     "transient": {
      "deleting": false
     }
    }
   },
   "source": [
    "## Data manipulations\n",
    "Rescale the data so that it represents the fraction of native (N) protein.\n",
    "To do so we need to choose appropriate values for the top and bottom baselines,\n",
    "e.g. 98 and 20.\n",
    "\n",
    "We determine $K$ as the $\\frac{N}{D}$ ratio, as well as $\\log(K)$.\n",
    "\n",
    "In the `logK` column, some `NaN` (not-a-number) values appear when we try to\n",
    "calculate the logarithm of a negative number, together with a warning \n",
    "from python.\n"
   ]
  },
  {
   "cell_type": "code",
   "execution_count": 4,
   "metadata": {
    "jupyter": {
     "outputs_hidden": false,
     "source_hidden": false
    },
    "nteract": {
     "transient": {
      "deleting": false
     }
    }
   },
   "outputs": [
    {
     "name": "stderr",
     "output_type": "stream",
     "text": [
      "/usr/local/lib/python3.9/site-packages/pandas/core/base.py:937: RuntimeWarning: invalid value encountered in log10\n",
      "  new_values = map_f(values, mapper)\n"
     ]
    },
    {
     "data": {
      "text/html": [
       "<div>\n",
       "<style scoped>\n",
       "    .dataframe tbody tr th:only-of-type {\n",
       "        vertical-align: middle;\n",
       "    }\n",
       "\n",
       "    .dataframe tbody tr th {\n",
       "        vertical-align: top;\n",
       "    }\n",
       "\n",
       "    .dataframe thead th {\n",
       "        text-align: right;\n",
       "    }\n",
       "</style>\n",
       "<table border=\"1\" class=\"dataframe\">\n",
       "  <thead>\n",
       "    <tr style=\"text-align: right;\">\n",
       "      <th></th>\n",
       "      <th>GdmCl</th>\n",
       "      <th>Intensity</th>\n",
       "      <th>N_ratio</th>\n",
       "      <th>K</th>\n",
       "      <th>logK</th>\n",
       "    </tr>\n",
       "  </thead>\n",
       "  <tbody>\n",
       "    <tr>\n",
       "      <th>0</th>\n",
       "      <td>0.25</td>\n",
       "      <td>101.0</td>\n",
       "      <td>1.038462</td>\n",
       "      <td>-0.037037</td>\n",
       "      <td>NaN</td>\n",
       "    </tr>\n",
       "    <tr>\n",
       "      <th>1</th>\n",
       "      <td>0.50</td>\n",
       "      <td>97.0</td>\n",
       "      <td>0.987179</td>\n",
       "      <td>0.012987</td>\n",
       "      <td>-1.886491</td>\n",
       "    </tr>\n",
       "    <tr>\n",
       "      <th>2</th>\n",
       "      <td>0.75</td>\n",
       "      <td>102.0</td>\n",
       "      <td>1.051282</td>\n",
       "      <td>-0.048780</td>\n",
       "      <td>NaN</td>\n",
       "    </tr>\n",
       "    <tr>\n",
       "      <th>3</th>\n",
       "      <td>1.00</td>\n",
       "      <td>96.0</td>\n",
       "      <td>0.974359</td>\n",
       "      <td>0.026316</td>\n",
       "      <td>-1.579784</td>\n",
       "    </tr>\n",
       "    <tr>\n",
       "      <th>4</th>\n",
       "      <td>1.50</td>\n",
       "      <td>88.0</td>\n",
       "      <td>0.871795</td>\n",
       "      <td>0.147059</td>\n",
       "      <td>-0.832509</td>\n",
       "    </tr>\n",
       "  </tbody>\n",
       "</table>\n",
       "</div>"
      ],
      "text/plain": [
       "   GdmCl  Intensity   N_ratio         K      logK\n",
       "0   0.25      101.0  1.038462 -0.037037       NaN\n",
       "1   0.50       97.0  0.987179  0.012987 -1.886491\n",
       "2   0.75      102.0  1.051282 -0.048780       NaN\n",
       "3   1.00       96.0  0.974359  0.026316 -1.579784\n",
       "4   1.50       88.0  0.871795  0.147059 -0.832509"
      ]
     },
     "execution_count": 4,
     "metadata": {},
     "output_type": "execute_result"
    }
   ],
   "source": [
    "def rescale(y, ref_min, ref_max):\n",
    "    return (y - ref_min) / (ref_max - ref_min)\n",
    "\n",
    "\n",
    "df['N_ratio'] = df.Intensity.apply(rescale, args=(20, 98))\n",
    "df['K'] = (1 - df.N_ratio) / df.N_ratio\n",
    "df['logK'] = df.K.map(np.log10)\n",
    "df.head()\n",
    "\n"
   ]
  },
  {
   "cell_type": "markdown",
   "metadata": {
    "nteract": {
     "transient": {
      "deleting": false
     }
    }
   },
   "source": [
    "These data transformations are ilustrated in the plots below. \n",
    "The dotted vertical lines indicate a possible range where we\n",
    "may find the **transition region**."
   ]
  },
  {
   "cell_type": "code",
   "execution_count": 5,
   "metadata": {
    "jupyter": {
     "outputs_hidden": false,
     "source_hidden": false
    },
    "nteract": {
     "transient": {
      "deleting": false
     }
    }
   },
   "outputs": [
    {
     "data": {
      "image/png": "[encoded data removed]",
      "text/plain": [
       "<Figure size 360x1440 with 4 Axes>"
      ]
     },
     "metadata": {
      "needs_background": "light"
     },
     "output_type": "display_data"
    }
   ],
   "source": [
    "fig = plt.figure(figsize=(5, 20))\n",
    "ax0, ax1, ax2, ax3 = fig.subplots(4, 1, sharex=True)\n",
    "# ax0\n",
    "df.plot.scatter(\n",
    "    \"GdmCl\",\n",
    "    \"Intensity\",\n",
    "    ax=ax0\n",
    ")\n",
    "ax0.set_ylim(0)\n",
    "# ax1\n",
    "df.plot.scatter(\n",
    "    \"GdmCl\",\n",
    "    \"N_ratio\",\n",
    "    ax=ax1\n",
    ")\n",
    "# ax2\n",
    "df.plot.scatter(\n",
    "    \"GdmCl\",\n",
    "    \"K\",\n",
    "    ax=ax2\n",
    ")\n",
    "# ax3\n",
    "df.plot.scatter(\n",
    "    \"GdmCl\",\n",
    "    \"logK\",\n",
    "    ax=ax3\n",
    ")\n",
    "titles = [\"Original data\", \"Rescaled\", \"K(GdmCl)\", \"log-linear\"]\n",
    "for ax, title in zip([ax0, ax1, ax2, ax3], titles):\n",
    "    ax.spines.bottom.set_position((\"data\", 0))\n",
    "    ax.spines.right.set_visible(False)\n",
    "    ax.spines.top.set_visible(False)\n",
    "    ax.set_title(title)\n",
    "    ax.axvline(1.25, linestyle=\"--\", color=\"k\")\n",
    "    ax.axvline(2.80, linestyle=\"--\", color=\"k\")\n",
    "\n"
   ]
  },
  {
   "cell_type": "markdown",
   "metadata": {
    "nteract": {
     "transient": {
      "deleting": false
     }
    }
   },
   "source": [
    "The log-linear approximation is only valid in the transition region. It's not an\n",
    "easy task to determine this range exactly, so we must make an educated choice.\n",
    "A reasonable transition interval may be found between 1.25 and 2.80 M GdmCl.\n"
   ]
  },
  {
   "cell_type": "code",
   "execution_count": 6,
   "metadata": {
    "jupyter": {
     "outputs_hidden": false,
     "source_hidden": false
    },
    "nteract": {
     "transient": {
      "deleting": false
     }
    }
   },
   "outputs": [],
   "source": [
    "transition = df[df.GdmCl.between(1.25, 2.80)].copy()\n",
    "\n"
   ]
  },
  {
   "cell_type": "markdown",
   "metadata": {
    "nteract": {
     "transient": {
      "deleting": false
     }
    }
   },
   "source": [
    "In this region, the relationship between $log(K)$ is empirically\n",
    "accepted to be linear, so we fit the data to a regression line."
   ]
  },
  {
   "cell_type": "code",
   "execution_count": 7,
   "metadata": {
    "jupyter": {
     "outputs_hidden": false,
     "source_hidden": false
    },
    "nteract": {
     "transient": {
      "deleting": false
     }
    }
   },
   "outputs": [],
   "source": [
    "res = linregress(transition.GdmCl.values, transition.logK.values)\n",
    "\n"
   ]
  },
  {
   "cell_type": "markdown",
   "metadata": {},
   "source": [
    "This is what that model looks like in the transition region. Good, huh?"
   ]
  },
  {
   "cell_type": "code",
   "execution_count": 8,
   "metadata": {
    "jupyter": {
     "outputs_hidden": false,
     "source_hidden": false
    },
    "nteract": {
     "transient": {
      "deleting": false
     }
    }
   },
   "outputs": [
    {
     "data": {
      "image/png": "[encoded data removed]",
      "text/plain": [
       "<Figure size 432x288 with 1 Axes>"
      ]
     },
     "metadata": {
      "needs_background": "light"
     },
     "output_type": "display_data"
    }
   ],
   "source": [
    "Xpred = np.linspace(0, df.GdmCl.max(), 100)\n",
    "\n",
    "fig = plt.figure()\n",
    "ax = fig.subplots(1, 1)\n",
    "transition.plot.scatter(\n",
    "    \"GdmCl\",\n",
    "    \"logK\",\n",
    "    ax=ax\n",
    ")\n",
    "ax.plot(\n",
    "    Xpred,\n",
    "    res.intercept + res.slope * Xpred,\n",
    "    linestyle=\"--\",\n",
    "    color=\"red\",\n",
    "\n",
    ")\n",
    "ax.spines.bottom.set_position((\"data\", 0))\n",
    "ax.spines.left.set_position((\"data\", 0))\n",
    "ax.spines.right.set_visible(False)\n",
    "ax.spines.top.set_visible(False)\n"
   ]
  },
  {
   "cell_type": "markdown",
   "metadata": {},
   "source": [
    "The equation for the model can be written as follows:"
   ]
  },
  {
   "cell_type": "code",
   "execution_count": 9,
   "metadata": {
    "jupyter": {
     "outputs_hidden": false,
     "source_hidden": false
    },
    "nteract": {
     "transient": {
      "deleting": false
     }
    }
   },
   "outputs": [
    {
     "name": "stdout",
     "output_type": "stream",
     "text": [
      "Fitted equation:\n",
      "logK = -2.29 + [GdmCl] • 1.14\n"
     ]
    }
   ],
   "source": [
    "print(\n",
    "    f\"Fitted equation:\\n\"\n",
    "    f\"logK = {res.intercept.round(2)} + [GdmCl] • {res.slope.round(2)}\"\n",
    ")"
   ]
  },
  {
   "cell_type": "markdown",
   "metadata": {},
   "source": [
    "and because we are interested in the stability of the protein in the absence of\n",
    "denaturant, that stability corresponds to the line's intercept:\n",
    "\n",
    "$$\\log(K_{\\mathrm{GdmCl}=0}) = -2.29$$\n",
    "\n",
    "while the midpoint for the transition is found, by definition, at $log(K) = 0$,\n",
    "so that's:\n",
    "\n",
    "$$[\\mathrm{GdmCl}]_{\\frac{1}{2}} = 2.01 M$$"
   ]
  },
  {
   "cell_type": "code",
   "execution_count": null,
   "metadata": {},
   "outputs": [],
   "source": []
  }
 ],
 "metadata": {
  "kernelspec": {
   "display_name": "Python 3 (ipykernel)",
   "language": "python",
   "name": "python3"
  },
  "language_info": {
   "codemirror_mode": {
    "name": "ipython",
    "version": 3
   },
   "file_extension": ".py",
   "mimetype": "text/x-python",
   "name": "python",
   "nbconvert_exporter": "python",
   "pygments_lexer": "ipython3",
   "version": "3.9.6"
  }
 },
 "nbformat": 4,
 "nbformat_minor": 1
}
